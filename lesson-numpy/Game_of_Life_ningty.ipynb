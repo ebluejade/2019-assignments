{
 "cells": [
  {
   "cell_type": "markdown",
   "metadata": {},
   "source": [
    "# 生命游戏\n",
    "\n",
    "这是个模拟生命演化的游戏，在一个广阔的生存空间里，设定生命群落存活和繁衍的规则，个体和群落依据既相互竞争又相互依存的法则进行进化。\n",
    "\n",
    "## 总的规则\n",
    "\n",
    "- 过于拥挤的分布 - 资源争夺 - 死亡\n",
    "- 过于孤立的分布 - 不具备种群优势 - 灭绝\n",
    "- 适度的分布 - 繁衍\n",
    "\n",
    "## 规则细节\n",
    "\n",
    "\n",
    "- 少于2邻居，死\n",
    "- 多于3邻居，死\n",
    "- 正好3邻居，生"
   ]
  },
  {
   "cell_type": "markdown",
   "metadata": {},
   "source": [
    "## 创作者的解释\n",
    "\n",
    "- [跳到1分钟处观看规则](http://bazhou.blob.core.windows.net/learning/mpp/414_Does_John_Conway_hate_his_Game_of_Life-E8kUJL04ELA.mp4 )\n",
    "\n",
    "- [对于这个想法的来源（冯.诺伊曼）可以看这个视频](http://bazhou.blob.core.windows.net/learning/mpp/665_Inventing_Game_of_Life_-_Numberphile-R9Plq-D1gEk.mp4 )"
   ]
  },
  {
   "cell_type": "markdown",
   "metadata": {},
   "source": [
    "## 交互体验\n",
    "\n",
    "这个交互体验的目的是获得感官印象\n",
    "\n",
    "- [体验游戏的过程是没有交互的](https://bitstorm.org/gameoflife/)，"
   ]
  },
  {
   "cell_type": "markdown",
   "metadata": {},
   "source": [
    "## Wikipedia解释\n",
    "\n",
    "如果已经明白规则，可以忽略这部分文档。\n",
    "\n",
    "- [English version long](http://bazhou.blob.core.windows.net/learning/mpp/game_of_life_en.pdf)\n",
    "- [汉语版本（短）](http://bazhou.blob.core.windows.net/learning/mpp/game_of_life_cn.pdf)"
   ]
  },
  {
   "cell_type": "markdown",
   "metadata": {},
   "source": [
    "# 挑战\n",
    "\n",
    "- 用Python实现游戏规则\n",
    "  - 在1000x1000共一百万个单元里模拟\n",
    "  - 边界为0\n",
    "  - 不需要画图，只需要完成进化矩阵的运算即可\n",
    "- 尽量短的代码\n",
    "- 尽量高效"
   ]
  },
  {
   "cell_type": "markdown",
   "metadata": {},
   "source": [
    "# 可以跳过下面全部的参考直接解决问题"
   ]
  },
  {
   "cell_type": "markdown",
   "metadata": {},
   "source": [
    "## 参考一\n",
    "\n",
    "[github搜索一个解](https://github.com/domoritz/gameoflife-python)"
   ]
  },
  {
   "cell_type": "markdown",
   "metadata": {},
   "source": [
    "## 参考二\n",
    "\n",
    "[Peter Norvig 的 notebook](https://nbviewer.jupyter.org/url/norvig.com/ipython/Life.ipynb)"
   ]
  },
  {
   "cell_type": "markdown",
   "metadata": {},
   "source": [
    "## 参考三\n",
    "\n",
    "[这个编程问题的96种语言实现](https://rosettacode.org/wiki/Conway%27s_Game_of_Life)"
   ]
  },
  {
   "cell_type": "markdown",
   "metadata": {},
   "source": [
    "## 参考四\n",
    "\n",
    "下面的代码是启发解，虽然不是最优解，但是\n",
    "\n",
    "- 给出了算法的基本结构\n",
    "  - 计算邻居数\n",
    "  - 根据法则进化\n",
    "- 循环结构指示了计算规模"
   ]
  },
  {
   "cell_type": "code",
   "execution_count": 7,
   "metadata": {},
   "outputs": [
    {
     "name": "stdout",
     "output_type": "stream",
     "text": [
      "5.720627777976915\n"
     ]
    }
   ],
   "source": [
    "import random as random\n",
    "import timeit\n",
    "\n",
    "# 产生一个百万0，1数组，0代表空（死），1代表生\n",
    "Z = [[random.choice([0,1]) for x in range(1000)] for y in range(1000)]\n",
    "\n",
    "# 计算八个邻居数目\n",
    "def neighbours(Z):\n",
    "    s = len(Z), len(Z[0])\n",
    "    # 一个初始全为0的邻居数量矩阵\n",
    "    N = [[0,]*(s[0]) for i in range(s[1])]\n",
    "    for x in range(1, s[0]-1):                                  # 注意边界\n",
    "        for y in range(1, s[1]-1):\n",
    "            N[x][y] = (Z[x-1][y-1] + Z[x][y-1] + Z[x+1][y-1] +  # 邻居数量=周围8个格子生命统计\n",
    "                       Z[x-1][y]               + Z[x+1][y]   +\n",
    "                       Z[x-1][y+1] + Z[x][y+1] + Z[x+1][y+1])\n",
    "    return N\n",
    "\n",
    "# 根据周围邻居总数应用规则\n",
    "def evolve(Z):\n",
    "    s = len(Z), len(Z[0])\n",
    "    N = neighbours(Z)\n",
    "    for x in range(1, s[0]-1):\n",
    "        for y in range(1, s[1]-1):\n",
    "            if Z[x][y] == 1 and (N[x][y] < 2 or N[x][y] > 3): # 灭亡规则\n",
    "                Z[x][y] = 0\n",
    "            elif Z[x][y] == 0 and N[x][y] == 3:               # 繁衍规则\n",
    "                Z[x][y] = 1\n",
    "    return Z\n",
    "\n",
    "print(timeit.timeit(lambda: evolve(Z), number=3))             # 对百万人口作三代进化，统计运算效率"
   ]
  },
  {
   "cell_type": "markdown",
   "metadata": {},
   "source": [
    "## 尝试用Numpy解"
   ]
  },
  {
   "cell_type": "code",
   "execution_count": 226,
   "metadata": {},
   "outputs": [
    {
     "name": "stdout",
     "output_type": "stream",
     "text": [
      "3.1669915188103914e-06\n"
     ]
    }
   ],
   "source": [
    "import timeit\n",
    "import numpy as np\n",
    "\n",
    "Znp = np.random.randint(2, size=(1000,1000))\n",
    "\n",
    "def np_solver(Z):\n",
    "        return Z # 把实现填进来\n",
    "    \n",
    "print(timeit.timeit(lambda: np_solver(Znp), number=3))"
   ]
  },
  {
   "cell_type": "code",
   "execution_count": 30,
   "metadata": {},
   "outputs": [],
   "source": [
    "import numpy as np\n",
    "import time\n",
    "import timeit\n",
    "from numpy.fft import fft2, ifft2, fftshift\n",
    "import numpy as fft_np\n",
    "\n",
    "def fft_convolve2d(x,y):\n",
    "\n",
    "    \"\"\"\n",
    "    2D convolution, using FFT\n",
    "    \"\"\"\n",
    "\n",
    "    fr = fft2(x)\n",
    "    fr2 = fft2(fft_np.flipud(np.fliplr(y)))\n",
    "    m,n = fr.shape\n",
    "    cc = fft_np.real(ifft2(fr*fr2))\n",
    "    cc = fft_np.roll(cc, - int(m / 2) + 1, axis=0)\n",
    "    cc = fft_np.roll(cc, - int(n / 2) + 1, axis=1)\n",
    "    return cc\n",
    "\n",
    "def conway(state, k=None):\n",
    "    \"\"\"    Conway's game of life state transition    \"\"\"\n",
    "\n",
    "    # set up kernel if not given\n",
    "    if k == None:\n",
    "        m, n = state.shape\n",
    "        k = np.zeros((m, n))\n",
    "        k[m/2-1 : m/2+2, n/2-1 : n/2+2] = np.array([[1,1,1],[1,0,1],[1,1,1]])\n",
    "\n",
    "    # computes sums around each pixel\n",
    "    b = fft_convolve2d(state,k).round()\n",
    "    c = np.zeros(b.shape)\n",
    "\n",
    "    c[np.where((b == 2) & (state == 1))] = 1\n",
    "    c[np.where((b == 3) & (state == 1))] = 1\n",
    "    c[np.where((b == 3) & (state == 0))] = 1\n",
    "\n",
    "    # return new state\n",
    "    return c\n",
    "\n",
    "if(__name__ == \"__main__\"):\n",
    "    # set up board\n",
    "    m,n = 1000,1000\n",
    "\n",
    "    #A = np.random.randint(m*n).reshape((m, n)).round()\n",
    "    A = np.random.randint(2, size=(1000,1000))\n",
    "\n",
    "    # print(timeit.timeit(lambda: conway(A), number=3))"
   ]
  },
  {
   "cell_type": "code",
   "execution_count": 41,
   "metadata": {},
   "outputs": [
    {
     "name": "stdout",
     "output_type": "stream",
     "text": [
      "2.218279654160142\n"
     ]
    }
   ],
   "source": [
    "#  An implementation of Conway's Game of Life in Python.\n",
    "#  Copyright (C) 2013 Christian Jacobs.\n",
    "\n",
    "import numpy\n",
    "import pylab\n",
    "import random\n",
    "import timeit\n",
    "\n",
    "class GameOfLife:\n",
    "\n",
    "   def __init__(self, N=100, T=3):\n",
    "\n",
    "      \"\"\" Set up Conway's Game of Life. \"\"\"\n",
    "      # Here we create two grids to hold the old and new configurations.\n",
    "      # This assumes an N*N grid of points.\n",
    "      # Each point is either alive or dead, represented by integer values of 1 and 0, respectively.\n",
    "\n",
    "      self.N = N\n",
    "      self.old_grid = numpy.zeros(N*N, dtype='i').reshape(N,N)\n",
    "      self.new_grid = numpy.zeros(N*N, dtype='i').reshape(N,N)\n",
    "\n",
    "      self.T = T # The maximum number of generations\n",
    "\n",
    "      # Set up a random initial configuration for the grid.\n",
    "      for i in range(0, self.N):\n",
    "         for j in range(0, self.N):\n",
    "            if(random.randint(0, 100) < 15):\n",
    "               self.old_grid[i][j] = 1\n",
    "            else:\n",
    "               self.old_grid[i][j] = 0\n",
    "\n",
    "   def live_neighbours(self, i, j):\n",
    "      \"\"\" Count the number of live neighbours around point (i, j). \"\"\"\n",
    "      s = 0 # The total number of live neighbours.\n",
    "\n",
    "    # Loop over all the neighbours.\n",
    "      for x in [i-1, i, i+1]:\n",
    "         for y in [j-1, j, j+1]:\n",
    "            if(x == i and y == j):\n",
    "               continue # Skip the current point itself - we only want to count the neighbours!\n",
    "            if(x != self.N and y != self.N):\n",
    "               s += self.old_grid[x][y]\n",
    "\n",
    "           # The remaining branches handle the case where the neighbour is off the end of the grid.\n",
    "           # In this case, we loop back round such that the grid becomes a \"toroidal array\".\n",
    "            elif(x == self.N and y != self.N):\n",
    "               s += self.old_grid[0][y]\n",
    "            elif(x != self.N and y == self.N):\n",
    "               s += self.old_grid[x][0]\n",
    "            else:\n",
    "               s += self.old_grid[0][0]\n",
    "      return s\n",
    "\n",
    "   def play(self):\n",
    "\n",
    "      \"\"\" Play Conway's Game of Life. \"\"\"\n",
    "      # Write the initial configuration to file.\n",
    "      #pylab.pcolormesh(self.old_grid)\n",
    "      #pylab.colorbar()\n",
    "      #pylab.savefig(\"generation0.png\")\n",
    "\n",
    "      t = 1 # Current time level\n",
    "      write_frequency = 5 # How frequently we want to output a grid configuration.\n",
    "      while t <= self.T: # Evolve!\n",
    "            \n",
    "            #print( \"At time level %d\" % t)\n",
    "        \n",
    "        # Loop over each cell of the grid and apply Conway's rules.\n",
    "         for i in range(self.N):\n",
    "            for j in range(self.N):\n",
    "               live = self.live_neighbours(i, j)\n",
    "               if(self.old_grid[i][j] == 1 and live < 2):\n",
    "                  self.new_grid[i][j] = 0 # Dead from starvation.\n",
    "               elif(self.old_grid[i][j] == 1 and (live == 2 or live == 3)):\n",
    "                  self.new_grid[i][j] = 1 # Continue living.\n",
    "               elif(self.old_grid[i][j] == 1 and live > 3):\n",
    "                  self.new_grid[i][j] = 0 # Dead from overcrowding.\n",
    "               elif(self.old_grid[i][j] == 0 and live == 3):\n",
    "                  self.new_grid[i][j] = 1 # Alive from reproduction.\n",
    "\n",
    "         # Output the new configuration.\n",
    "         #if(t % write_frequency == 0):\n",
    "            #pylab.pcolormesh(self.new_grid)\n",
    "            #pylab.savefig(\"generation%d.png\" % t)\n",
    "\n",
    "         # The new configuration becomes the old configuration for the next generation.\n",
    "         self.old_grid = self.new_grid.copy()\n",
    "\n",
    "         # Move on to the next time level\n",
    "         t += 1\n",
    "\n",
    "if(__name__ == \"__main__\"):\n",
    "   game = GameOfLife(N = 100, T = 3)\n",
    "   #game.play()\n",
    "   print(timeit.timeit(lambda: game.play(), number=3))"
   ]
  },
  {
   "cell_type": "markdown",
   "metadata": {},
   "source": [
    "## 提示一\n",
    "\n",
    "- 使用索引[1:-1,1:-1]可以消去邻居数循环"
   ]
  },
  {
   "cell_type": "markdown",
   "metadata": {},
   "source": [
    "## 提示二\n",
    "\n",
    "- [argwhere可以帮助作规则判断](https://docs.scipy.org/doc/numpy/reference/generated/numpy.argwhere.html)"
   ]
  },
  {
   "cell_type": "markdown",
   "metadata": {},
   "source": [
    "## 提示三\n",
    "\n",
    "-[ravel是view](https://docs.scipy.org/doc/numpy/reference/generated/numpy.ravel.html)\n",
    "\n",
    "-[参考曾佑轩分享的关于Numpy性能的文章](https://zhuanlan.zhihu.com/p/28626431)\n",
    "\n",
    "-[numpy.take](https://docs.scipy.org/doc/numpy/reference/generated/numpy.take.html)\n",
    "\n",
    "-[numpy.compress](https://docs.scipy.org/doc/numpy/reference/generated/numpy.compress.html)"
   ]
  }
 ],
 "metadata": {
  "kernelspec": {
   "display_name": "Python 3",
   "language": "python",
   "name": "python3"
  },
  "language_info": {
   "codemirror_mode": {
    "name": "ipython",
    "version": 3
   },
   "file_extension": ".py",
   "mimetype": "text/x-python",
   "name": "python",
   "nbconvert_exporter": "python",
   "pygments_lexer": "ipython3",
   "version": "3.6.5"
  }
 },
 "nbformat": 4,
 "nbformat_minor": 2
}
